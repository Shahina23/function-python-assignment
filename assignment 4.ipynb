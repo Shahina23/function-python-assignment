{
 "cells": [
  {
   "cell_type": "markdown",
   "id": "6af59903",
   "metadata": {},
   "source": [
    "# Question 1"
   ]
  },
  {
   "cell_type": "code",
   "execution_count": 47,
   "id": "e50456c8",
   "metadata": {},
   "outputs": [],
   "source": [
    "tup=[('Sachin Tendulkar', 34357), ('Ricky Ponting', 27483), ('Jack Kallis', 25534), ('Virat Kohli', 24936)]"
   ]
  },
  {
   "cell_type": "code",
   "execution_count": 48,
   "id": "2ad5e877",
   "metadata": {},
   "outputs": [],
   "source": [
    "def test(a):\n",
    "    for i in a:\n",
    "        if type(i)==int:\n",
    "            return i"
   ]
  },
  {
   "cell_type": "code",
   "execution_count": 49,
   "id": "d999bc55",
   "metadata": {},
   "outputs": [
    {
     "data": {
      "text/plain": [
       "[34357, 27483, 25534, 24936]"
      ]
     },
     "execution_count": 49,
     "metadata": {},
     "output_type": "execute_result"
    }
   ],
   "source": [
    "list(map(lambda x: test(x),tup))"
   ]
  },
  {
   "cell_type": "markdown",
   "id": "e2e7b5e4",
   "metadata": {},
   "source": [
    "# Question 2"
   ]
  },
  {
   "cell_type": "code",
   "execution_count": 50,
   "id": "a9c985fc",
   "metadata": {},
   "outputs": [],
   "source": [
    "lst1 = [1, 2, 3, 4, 5, 6, 7, 8, 9, 10]"
   ]
  },
  {
   "cell_type": "code",
   "execution_count": 51,
   "id": "39ee206f",
   "metadata": {},
   "outputs": [
    {
     "data": {
      "text/plain": [
       "[1, 4, 9, 16, 25, 36, 49, 64, 81, 100]"
      ]
     },
     "execution_count": 51,
     "metadata": {},
     "output_type": "execute_result"
    }
   ],
   "source": [
    "list(map(lambda x: x**2,lst1))"
   ]
  },
  {
   "cell_type": "markdown",
   "id": "8290a2af",
   "metadata": {},
   "source": [
    "# Question 3"
   ]
  },
  {
   "cell_type": "code",
   "execution_count": 52,
   "id": "f3cd06df",
   "metadata": {},
   "outputs": [
    {
     "data": {
      "text/plain": [
       "['1', '2', '3', '4', '5', '6', '7', '8', '9', '10']"
      ]
     },
     "execution_count": 52,
     "metadata": {},
     "output_type": "execute_result"
    }
   ],
   "source": [
    "list(map(lambda a: str(a), lst1))"
   ]
  },
  {
   "cell_type": "markdown",
   "id": "285746cf",
   "metadata": {},
   "source": [
    "# Question 4"
   ]
  },
  {
   "cell_type": "code",
   "execution_count": 2,
   "id": "85da1f7f",
   "metadata": {},
   "outputs": [],
   "source": [
    "from functools import reduce"
   ]
  },
  {
   "cell_type": "code",
   "execution_count": 6,
   "id": "d3fd067f",
   "metadata": {},
   "outputs": [],
   "source": [
    "prd=range(1,26)"
   ]
  },
  {
   "cell_type": "code",
   "execution_count": 8,
   "id": "82565b03",
   "metadata": {},
   "outputs": [
    {
     "data": {
      "text/plain": [
       "15511210043330985984000000"
      ]
     },
     "execution_count": 8,
     "metadata": {},
     "output_type": "execute_result"
    }
   ],
   "source": [
    "reduce(lambda x,y: x*y, prd)"
   ]
  },
  {
   "cell_type": "markdown",
   "id": "bc932ce0",
   "metadata": {},
   "source": [
    "# Question 5"
   ]
  },
  {
   "cell_type": "code",
   "execution_count": 9,
   "id": "7b6b0927",
   "metadata": {},
   "outputs": [],
   "source": [
    "lst2=[2, 3, 6, 9, 27, 60, 90, 120, 55, 46]"
   ]
  },
  {
   "cell_type": "code",
   "execution_count": 14,
   "id": "3b8066b9",
   "metadata": {},
   "outputs": [
    {
     "data": {
      "text/plain": [
       "[2, 3, 6, 9, 27, 60, 90, 120, 46]"
      ]
     },
     "execution_count": 14,
     "metadata": {},
     "output_type": "execute_result"
    }
   ],
   "source": [
    "list(filter(lambda x: x%2==0 or x%3==0,lst2))"
   ]
  },
  {
   "cell_type": "markdown",
   "id": "664076a6",
   "metadata": {},
   "source": [
    "# Question 6"
   ]
  },
  {
   "cell_type": "code",
   "execution_count": 15,
   "id": "27ec9c3e",
   "metadata": {},
   "outputs": [],
   "source": [
    "lst3=['python', 'php', 'aba', 'radar', 'level']"
   ]
  },
  {
   "cell_type": "code",
   "execution_count": 19,
   "id": "45562a9d",
   "metadata": {},
   "outputs": [
    {
     "data": {
      "text/plain": [
       "['php', 'aba', 'radar', 'level']"
      ]
     },
     "execution_count": 19,
     "metadata": {},
     "output_type": "execute_result"
    }
   ],
   "source": [
    "list(filter(lambda x: x==x[::-1], lst3))"
   ]
  }
 ],
 "metadata": {
  "kernelspec": {
   "display_name": "Python 3 (ipykernel)",
   "language": "python",
   "name": "python3"
  },
  "language_info": {
   "codemirror_mode": {
    "name": "ipython",
    "version": 3
   },
   "file_extension": ".py",
   "mimetype": "text/x-python",
   "name": "python",
   "nbconvert_exporter": "python",
   "pygments_lexer": "ipython3",
   "version": "3.11.3"
  }
 },
 "nbformat": 4,
 "nbformat_minor": 5
}
