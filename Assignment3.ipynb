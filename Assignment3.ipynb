{
 "cells": [
  {
   "cell_type": "markdown",
   "id": "2dd3404e",
   "metadata": {},
   "source": [
    "# Question 1"
   ]
  },
  {
   "cell_type": "markdown",
   "id": "3ee3a194",
   "metadata": {},
   "source": [
    "Functions are defined using the keyword def"
   ]
  },
  {
   "cell_type": "code",
   "execution_count": 2,
   "id": "9dca4ed7",
   "metadata": {},
   "outputs": [
    {
     "name": "stdout",
     "output_type": "stream",
     "text": [
      "[1, 3, 5, 7, 9, 11, 13, 15, 17, 19, 21, 23, 25]\n"
     ]
    }
   ],
   "source": [
    "def lst(a,b):\n",
    "    l=[]\n",
    "    for i in range(a,b+1):\n",
    "        if i%2 != 0:\n",
    "            l.append(i)\n",
    "    return l\n",
    "result = lst(1,25)\n",
    "print(result)\n",
    "        "
   ]
  },
  {
   "cell_type": "markdown",
   "id": "9e8939b1",
   "metadata": {},
   "source": [
    "# Question 2"
   ]
  },
  {
   "cell_type": "markdown",
   "id": "78fad7d3",
   "metadata": {},
   "source": [
    "*args are used in function so that we can provide n number of arguments to the function \n",
    "whereas **kwargs is used so that we can provide n number of keys and values in a dictionary"
   ]
  },
  {
   "cell_type": "code",
   "execution_count": 3,
   "id": "1ded7a9e",
   "metadata": {},
   "outputs": [],
   "source": [
    "def test1(*args): # example of *args\n",
    "    sum=0\n",
    "    for i in args:\n",
    "        sum = sum+i\n",
    "    print(\"sum is : \", sum)\n",
    "        "
   ]
  },
  {
   "cell_type": "code",
   "execution_count": 4,
   "id": "81b06163",
   "metadata": {},
   "outputs": [
    {
     "name": "stdout",
     "output_type": "stream",
     "text": [
      "sum is :  6\n"
     ]
    }
   ],
   "source": [
    "test1(1,2,3)"
   ]
  },
  {
   "cell_type": "code",
   "execution_count": 5,
   "id": "417cb1f9",
   "metadata": {},
   "outputs": [],
   "source": [
    "def test2(**kwargs):\n",
    "    for i in kwargs.keys():\n",
    "        if type(kwargs[i])==list:\n",
    "            return i, kwargs"
   ]
  },
  {
   "cell_type": "code",
   "execution_count": 6,
   "id": "fa021a96",
   "metadata": {},
   "outputs": [
    {
     "data": {
      "text/plain": [
       "('c', {'a': 32, 'b': 55, 'c': [1, 2, 3, 4], 'd': ('shahina', 'bano')})"
      ]
     },
     "execution_count": 6,
     "metadata": {},
     "output_type": "execute_result"
    }
   ],
   "source": [
    "test2(a=32, b=55, c=[1,2,3,4], d = (\"shahina\",\"bano\"))"
   ]
  },
  {
   "cell_type": "markdown",
   "id": "bd854107",
   "metadata": {},
   "source": [
    "# Question 3"
   ]
  },
  {
   "cell_type": "markdown",
   "id": "b2974cc4",
   "metadata": {},
   "source": [
    "Iterator is an object which can be looped over and remembers next item to be returned.\n",
    "iter() : To create iterator object from a iterable, which means it takes iterables as an argumentand returns iterator object.\n",
    "next() : To use the next item from the iterators"
   ]
  },
  {
   "cell_type": "code",
   "execution_count": 2,
   "id": "09d762ed",
   "metadata": {},
   "outputs": [],
   "source": [
    "lst3= [2, 4, 6, 8, 10, 12, 14, 16,18,20]"
   ]
  },
  {
   "cell_type": "code",
   "execution_count": 5,
   "id": "07886bb9",
   "metadata": {},
   "outputs": [
    {
     "name": "stdout",
     "output_type": "stream",
     "text": [
      "2\n",
      "4\n",
      "6\n",
      "8\n",
      "10\n"
     ]
    }
   ],
   "source": [
    "my_list = iter(lst3)\n",
    "for i in range(5):\n",
    "    element = next(my_list)\n",
    "    print(element)"
   ]
  },
  {
   "cell_type": "markdown",
   "id": "f6df7dcf",
   "metadata": {},
   "source": [
    "# Question 4"
   ]
  },
  {
   "cell_type": "markdown",
   "id": "1b103af5",
   "metadata": {},
   "source": [
    "Generator function such as yield that returns an iterator that produces a sequence of values when iterated over.\n",
    "Yield keyword is needed when large amount of dataset is included as it allows us to generate values without consuming lot of memory."
   ]
  },
  {
   "cell_type": "code",
   "execution_count": 7,
   "id": "f0ea277d",
   "metadata": {},
   "outputs": [],
   "source": [
    "def fib(n):\n",
    "    a,b=0,1\n",
    "    for i in range(n):\n",
    "        yield a\n",
    "        a,b=b,a+b\n",
    "   \n",
    "        "
   ]
  },
  {
   "cell_type": "code",
   "execution_count": 8,
   "id": "e2c3ee06",
   "metadata": {},
   "outputs": [
    {
     "data": {
      "text/plain": [
       "[0, 1, 1, 2, 3, 5, 8, 13, 21, 34]"
      ]
     },
     "execution_count": 8,
     "metadata": {},
     "output_type": "execute_result"
    }
   ],
   "source": [
    "list(fib(10))"
   ]
  }
 ],
 "metadata": {
  "kernelspec": {
   "display_name": "Python 3 (ipykernel)",
   "language": "python",
   "name": "python3"
  },
  "language_info": {
   "codemirror_mode": {
    "name": "ipython",
    "version": 3
   },
   "file_extension": ".py",
   "mimetype": "text/x-python",
   "name": "python",
   "nbconvert_exporter": "python",
   "pygments_lexer": "ipython3",
   "version": "3.11.3"
  }
 },
 "nbformat": 4,
 "nbformat_minor": 5
}
